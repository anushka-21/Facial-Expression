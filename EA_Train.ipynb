{
 "cells": [
  {
   "cell_type": "code",
   "execution_count": 1,
   "metadata": {},
   "outputs": [],
   "source": [
    "import keras\n",
    "from keras.preprocessing.image import ImageDataGenerator\n",
    "from keras.models import Sequential\n",
    "from keras.layers import Dense,Dropout,Activation,Flatten,BatchNormalization\n",
    "from keras.layers import Conv2D,MaxPooling2D\n",
    "import os"
   ]
  },
  {
   "cell_type": "code",
   "execution_count": 2,
   "metadata": {},
   "outputs": [],
   "source": [
    "train_data_dir = r'C:/Users/zoeym/Desktop/New folder/images/train'\n",
    "validation_data_dir = r'C:/Users/zoeym/Desktop/New folder/images/validation'"
   ]
  },
  {
   "cell_type": "code",
   "execution_count": 3,
   "metadata": {},
   "outputs": [],
   "source": [
    "num_classes = 5\n",
    "img_rows,img_cols = 48,48\n",
    "batch_size = 32"
   ]
  },
  {
   "cell_type": "code",
   "execution_count": 4,
   "metadata": {},
   "outputs": [],
   "source": [
    "train_datagen = ImageDataGenerator( rescale=1./255,\n",
    "                                    rotation_range=30,\n",
    "                                    shear_range=0.3,\n",
    "                                    zoom_range=0.3,\n",
    "                                    width_shift_range=0.4,\n",
    "                                    height_shift_range=0.4,\n",
    "                                    horizontal_flip=True,\n",
    "                                    fill_mode='nearest')"
   ]
  },
  {
   "cell_type": "code",
   "execution_count": 5,
   "metadata": {},
   "outputs": [],
   "source": [
    "validation_datagen = ImageDataGenerator(rescale=1./255)"
   ]
  },
  {
   "cell_type": "code",
   "execution_count": 6,
   "metadata": {},
   "outputs": [
    {
     "name": "stdout",
     "output_type": "stream",
     "text": [
      "Found 24282 images belonging to 5 classes.\n"
     ]
    }
   ],
   "source": [
    "train_generator = train_datagen.flow_from_directory(train_data_dir,\n",
    "                                                    color_mode='grayscale',\n",
    "                                                    target_size=(img_rows,img_cols),\n",
    "                                                    batch_size=batch_size,\n",
    "                                                    class_mode='categorical',\n",
    "                                                    shuffle=True)"
   ]
  },
  {
   "cell_type": "code",
   "execution_count": 7,
   "metadata": {},
   "outputs": [
    {
     "name": "stdout",
     "output_type": "stream",
     "text": [
      "Found 5937 images belonging to 5 classes.\n"
     ]
    }
   ],
   "source": [
    "validation_generator = validation_datagen.flow_from_directory(validation_data_dir,\n",
    "                                                            color_mode='grayscale',\n",
    "                                                            target_size=(img_rows,img_cols),\n",
    "                                                            batch_size=batch_size,\n",
    "                                                            class_mode='categorical',\n",
    "                                                            shuffle=True)"
   ]
  },
  {
   "cell_type": "code",
   "execution_count": 8,
   "metadata": {},
   "outputs": [],
   "source": [
    "model = Sequential()\n",
    "\n",
    "model.add(Conv2D(32,(3,3),padding='same',kernel_initializer='he_normal',input_shape=(img_rows,img_cols,1)))\n",
    "model.add(Activation('elu'))\n",
    "model.add(BatchNormalization())\n",
    "model.add(Conv2D(32,(3,3),padding='same',kernel_initializer='he_normal',input_shape=(img_rows,img_cols,1)))\n",
    "model.add(Activation('elu'))\n",
    "model.add(BatchNormalization())\n",
    "model.add(MaxPooling2D(pool_size=(2,2)))\n",
    "model.add(Dropout(0.2))"
   ]
  },
  {
   "cell_type": "code",
   "execution_count": 9,
   "metadata": {},
   "outputs": [],
   "source": [
    "model.add(Conv2D(64,(3,3),padding='same',kernel_initializer='he_normal'))\n",
    "model.add(Activation('elu'))\n",
    "model.add(BatchNormalization())\n",
    "model.add(Conv2D(64,(3,3),padding='same',kernel_initializer='he_normal'))\n",
    "model.add(Activation('elu'))\n",
    "model.add(BatchNormalization())\n",
    "model.add(MaxPooling2D(pool_size=(2,2)))\n",
    "model.add(Dropout(0.2))"
   ]
  },
  {
   "cell_type": "code",
   "execution_count": 10,
   "metadata": {},
   "outputs": [],
   "source": [
    "model.add(Conv2D(128,(3,3),padding='same',kernel_initializer='he_normal'))\n",
    "model.add(Activation('elu'))\n",
    "model.add(BatchNormalization())\n",
    "model.add(Conv2D(128,(3,3),padding='same',kernel_initializer='he_normal'))\n",
    "model.add(Activation('elu'))\n",
    "model.add(BatchNormalization())\n",
    "model.add(MaxPooling2D(pool_size=(2,2)))\n",
    "model.add(Dropout(0.2))"
   ]
  },
  {
   "cell_type": "code",
   "execution_count": 11,
   "metadata": {},
   "outputs": [],
   "source": [
    "model.add(Conv2D(256,(3,3),padding='same',kernel_initializer='he_normal'))\n",
    "model.add(Activation('elu'))\n",
    "model.add(BatchNormalization())\n",
    "model.add(Conv2D(256,(3,3),padding='same',kernel_initializer='he_normal'))\n",
    "model.add(Activation('elu'))\n",
    "model.add(BatchNormalization())\n",
    "model.add(MaxPooling2D(pool_size=(2,2)))\n",
    "model.add(Dropout(0.2))"
   ]
  },
  {
   "cell_type": "code",
   "execution_count": 12,
   "metadata": {},
   "outputs": [],
   "source": [
    "model.add(Flatten())\n",
    "model.add(Dense(64, kernel_initializer='he_normal'))\n",
    "model.add(Activation('elu'))\n",
    "model.add(BatchNormalization())\n",
    "model.add(Dropout(0.5))"
   ]
  },
  {
   "cell_type": "code",
   "execution_count": 13,
   "metadata": {},
   "outputs": [],
   "source": [
    "model.add(Dense(64, kernel_initializer='he_normal'))\n",
    "model.add(Activation('elu'))\n",
    "model.add(BatchNormalization())\n",
    "model.add(Dropout(0.5)) "
   ]
  },
  {
   "cell_type": "code",
   "execution_count": 14,
   "metadata": {},
   "outputs": [],
   "source": [
    "model.add(Dense(num_classes,kernel_initializer='he_normal'))\n",
    "model.add(Activation('softmax'))"
   ]
  },
  {
   "cell_type": "code",
   "execution_count": 15,
   "metadata": {},
   "outputs": [
    {
     "name": "stdout",
     "output_type": "stream",
     "text": [
      "Model: \"sequential\"\n",
      "_________________________________________________________________\n",
      "Layer (type)                 Output Shape              Param #   \n",
      "=================================================================\n",
      "conv2d (Conv2D)              (None, 48, 48, 32)        320       \n",
      "_________________________________________________________________\n",
      "activation (Activation)      (None, 48, 48, 32)        0         \n",
      "_________________________________________________________________\n",
      "batch_normalization (BatchNo (None, 48, 48, 32)        128       \n",
      "_________________________________________________________________\n",
      "conv2d_1 (Conv2D)            (None, 48, 48, 32)        9248      \n",
      "_________________________________________________________________\n",
      "activation_1 (Activation)    (None, 48, 48, 32)        0         \n",
      "_________________________________________________________________\n",
      "batch_normalization_1 (Batch (None, 48, 48, 32)        128       \n",
      "_________________________________________________________________\n",
      "max_pooling2d (MaxPooling2D) (None, 24, 24, 32)        0         \n",
      "_________________________________________________________________\n",
      "dropout (Dropout)            (None, 24, 24, 32)        0         \n",
      "_________________________________________________________________\n",
      "conv2d_2 (Conv2D)            (None, 24, 24, 64)        18496     \n",
      "_________________________________________________________________\n",
      "activation_2 (Activation)    (None, 24, 24, 64)        0         \n",
      "_________________________________________________________________\n",
      "batch_normalization_2 (Batch (None, 24, 24, 64)        256       \n",
      "_________________________________________________________________\n",
      "conv2d_3 (Conv2D)            (None, 24, 24, 64)        36928     \n",
      "_________________________________________________________________\n",
      "activation_3 (Activation)    (None, 24, 24, 64)        0         \n",
      "_________________________________________________________________\n",
      "batch_normalization_3 (Batch (None, 24, 24, 64)        256       \n",
      "_________________________________________________________________\n",
      "max_pooling2d_1 (MaxPooling2 (None, 12, 12, 64)        0         \n",
      "_________________________________________________________________\n",
      "dropout_1 (Dropout)          (None, 12, 12, 64)        0         \n",
      "_________________________________________________________________\n",
      "conv2d_4 (Conv2D)            (None, 12, 12, 128)       73856     \n",
      "_________________________________________________________________\n",
      "activation_4 (Activation)    (None, 12, 12, 128)       0         \n",
      "_________________________________________________________________\n",
      "batch_normalization_4 (Batch (None, 12, 12, 128)       512       \n",
      "_________________________________________________________________\n",
      "conv2d_5 (Conv2D)            (None, 12, 12, 128)       147584    \n",
      "_________________________________________________________________\n",
      "activation_5 (Activation)    (None, 12, 12, 128)       0         \n",
      "_________________________________________________________________\n",
      "batch_normalization_5 (Batch (None, 12, 12, 128)       512       \n",
      "_________________________________________________________________\n",
      "max_pooling2d_2 (MaxPooling2 (None, 6, 6, 128)         0         \n",
      "_________________________________________________________________\n",
      "dropout_2 (Dropout)          (None, 6, 6, 128)         0         \n",
      "_________________________________________________________________\n",
      "conv2d_6 (Conv2D)            (None, 6, 6, 256)         295168    \n",
      "_________________________________________________________________\n",
      "activation_6 (Activation)    (None, 6, 6, 256)         0         \n",
      "_________________________________________________________________\n",
      "batch_normalization_6 (Batch (None, 6, 6, 256)         1024      \n",
      "_________________________________________________________________\n",
      "conv2d_7 (Conv2D)            (None, 6, 6, 256)         590080    \n",
      "_________________________________________________________________\n",
      "activation_7 (Activation)    (None, 6, 6, 256)         0         \n",
      "_________________________________________________________________\n",
      "batch_normalization_7 (Batch (None, 6, 6, 256)         1024      \n",
      "_________________________________________________________________\n",
      "max_pooling2d_3 (MaxPooling2 (None, 3, 3, 256)         0         \n",
      "_________________________________________________________________\n",
      "dropout_3 (Dropout)          (None, 3, 3, 256)         0         \n",
      "_________________________________________________________________\n",
      "flatten (Flatten)            (None, 2304)              0         \n",
      "_________________________________________________________________\n",
      "dense (Dense)                (None, 64)                147520    \n",
      "_________________________________________________________________\n",
      "activation_8 (Activation)    (None, 64)                0         \n",
      "_________________________________________________________________\n",
      "batch_normalization_8 (Batch (None, 64)                256       \n",
      "_________________________________________________________________\n",
      "dropout_4 (Dropout)          (None, 64)                0         \n",
      "_________________________________________________________________\n",
      "dense_1 (Dense)              (None, 64)                4160      \n",
      "_________________________________________________________________\n",
      "activation_9 (Activation)    (None, 64)                0         \n",
      "_________________________________________________________________\n",
      "batch_normalization_9 (Batch (None, 64)                256       \n",
      "_________________________________________________________________\n",
      "dropout_5 (Dropout)          (None, 64)                0         \n",
      "_________________________________________________________________\n",
      "dense_2 (Dense)              (None, 5)                 325       \n",
      "_________________________________________________________________\n",
      "activation_10 (Activation)   (None, 5)                 0         \n",
      "=================================================================\n",
      "Total params: 1,328,037\n",
      "Trainable params: 1,325,861\n",
      "Non-trainable params: 2,176\n",
      "_________________________________________________________________\n",
      "None\n"
     ]
    }
   ],
   "source": [
    "print(model.summary()) "
   ]
  },
  {
   "cell_type": "code",
   "execution_count": 16,
   "metadata": {},
   "outputs": [],
   "source": [
    "from keras.optimizers import RMSprop,SGD,Adam\n",
    "from keras.callbacks import ModelCheckpoint, EarlyStopping, ReduceLROnPlateau"
   ]
  },
  {
   "cell_type": "code",
   "execution_count": 17,
   "metadata": {},
   "outputs": [],
   "source": [
    "checkpoint = ModelCheckpoint('Emotion_little_vgg.h5',\n",
    "                             monitor='val_loss',\n",
    "                             mode='min',\n",
    "                             save_best_only=True,\n",
    "                             verbose=1) "
   ]
  },
  {
   "cell_type": "code",
   "execution_count": 18,
   "metadata": {},
   "outputs": [],
   "source": [
    "earlystop = EarlyStopping(monitor='val_loss',\n",
    "                          min_delta=0,\n",
    "                          patience=3,\n",
    "                          verbose=1,\n",
    "                          restore_best_weights=True)                          "
   ]
  },
  {
   "cell_type": "code",
   "execution_count": 19,
   "metadata": {},
   "outputs": [],
   "source": [
    "reduce_lr = ReduceLROnPlateau(monitor='val_loss',\n",
    "                              factor=0.2,\n",
    "                              patience=3,\n",
    "                              verbose=1,\n",
    "                              min_delta=0.0001) "
   ]
  },
  {
   "cell_type": "code",
   "execution_count": 20,
   "metadata": {},
   "outputs": [],
   "source": [
    "callbacks = [earlystop,checkpoint,reduce_lr]"
   ]
  },
  {
   "cell_type": "code",
   "execution_count": 21,
   "metadata": {},
   "outputs": [],
   "source": [
    "model.compile(loss='categorical_crossentropy',\n",
    "              optimizer = Adam(lr=0.001),\n",
    "              metrics=['accuracy'])"
   ]
  },
  {
   "cell_type": "code",
   "execution_count": 22,
   "metadata": {},
   "outputs": [],
   "source": [
    "nb_train_samples = 24176\n",
    "nb_validation_samples = 3006\n",
    "epochs=50"
   ]
  },
  {
   "cell_type": "code",
   "execution_count": 23,
   "metadata": {},
   "outputs": [
    {
     "name": "stdout",
     "output_type": "stream",
     "text": [
      "WARNING:tensorflow:From <ipython-input-23-25d6d06afb23>:1: Model.fit_generator (from tensorflow.python.keras.engine.training) is deprecated and will be removed in a future version.\n",
      "Instructions for updating:\n",
      "Please use Model.fit, which supports generators.\n",
      "Epoch 1/50\n",
      "755/755 [==============================] - ETA: 0s - loss: 1.8712 - accuracy: 0.2383\n",
      "Epoch 00001: val_loss improved from inf to 1.53222, saving model to Emotion_little_vgg.h5\n",
      "755/755 [==============================] - 185s 245ms/step - loss: 1.8712 - accuracy: 0.2383 - val_loss: 1.5322 - val_accuracy: 0.3206\n",
      "Epoch 2/50\n",
      "755/755 [==============================] - ETA: 0s - loss: 1.5750 - accuracy: 0.2836\n",
      "Epoch 00002: val_loss improved from 1.53222 to 1.51711, saving model to Emotion_little_vgg.h5\n",
      "755/755 [==============================] - 183s 242ms/step - loss: 1.5750 - accuracy: 0.2836 - val_loss: 1.5171 - val_accuracy: 0.3417\n",
      "Epoch 3/50\n",
      "755/755 [==============================] - ETA: 0s - loss: 1.5455 - accuracy: 0.3026\n",
      "Epoch 00003: val_loss improved from 1.51711 to 1.49056, saving model to Emotion_little_vgg.h5\n",
      "755/755 [==============================] - 185s 245ms/step - loss: 1.5455 - accuracy: 0.3026 - val_loss: 1.4906 - val_accuracy: 0.3384\n",
      "Epoch 4/50\n",
      "755/755 [==============================] - ETA: 0s - loss: 1.5165 - accuracy: 0.3212\n",
      "Epoch 00004: val_loss improved from 1.49056 to 1.40642, saving model to Emotion_little_vgg.h5\n",
      "755/755 [==============================] - 183s 243ms/step - loss: 1.5165 - accuracy: 0.3212 - val_loss: 1.4064 - val_accuracy: 0.4059\n",
      "Epoch 5/50\n",
      "755/755 [==============================] - ETA: 0s - loss: 1.4500 - accuracy: 0.3640\n",
      "Epoch 00005: val_loss improved from 1.40642 to 1.22662, saving model to Emotion_little_vgg.h5\n",
      "755/755 [==============================] - 184s 244ms/step - loss: 1.4500 - accuracy: 0.3640 - val_loss: 1.2266 - val_accuracy: 0.4946\n",
      "Epoch 6/50\n",
      "755/755 [==============================] - ETA: 0s - loss: 1.3711 - accuracy: 0.4164\n",
      "Epoch 00006: val_loss improved from 1.22662 to 1.17736, saving model to Emotion_little_vgg.h5\n",
      "755/755 [==============================] - 183s 243ms/step - loss: 1.3711 - accuracy: 0.4164 - val_loss: 1.1774 - val_accuracy: 0.5393\n",
      "Epoch 7/50\n",
      "755/755 [==============================] - ETA: 0s - loss: 1.3016 - accuracy: 0.4570\n",
      "Epoch 00007: val_loss improved from 1.17736 to 1.01507, saving model to Emotion_little_vgg.h5\n",
      "755/755 [==============================] - 184s 243ms/step - loss: 1.3016 - accuracy: 0.4570 - val_loss: 1.0151 - val_accuracy: 0.6025\n",
      "Epoch 8/50\n",
      "755/755 [==============================] - ETA: 0s - loss: 1.2389 - accuracy: 0.4900\n",
      "Epoch 00008: val_loss improved from 1.01507 to 0.98528, saving model to Emotion_little_vgg.h5\n",
      "755/755 [==============================] - 184s 244ms/step - loss: 1.2389 - accuracy: 0.4900 - val_loss: 0.9853 - val_accuracy: 0.6045\n",
      "Epoch 9/50\n",
      "755/755 [==============================] - ETA: 0s - loss: 1.1914 - accuracy: 0.5125\n",
      "Epoch 00009: val_loss improved from 0.98528 to 0.97383, saving model to Emotion_little_vgg.h5\n",
      "755/755 [==============================] - 184s 244ms/step - loss: 1.1914 - accuracy: 0.5125 - val_loss: 0.9738 - val_accuracy: 0.5954\n",
      "Epoch 10/50\n",
      "755/755 [==============================] - ETA: 0s - loss: 1.1695 - accuracy: 0.5279\n",
      "Epoch 00010: val_loss improved from 0.97383 to 0.89811, saving model to Emotion_little_vgg.h5\n",
      "755/755 [==============================] - 184s 243ms/step - loss: 1.1695 - accuracy: 0.5279 - val_loss: 0.8981 - val_accuracy: 0.6529\n",
      "Epoch 11/50\n",
      "755/755 [==============================] - ETA: 0s - loss: 1.1440 - accuracy: 0.5398\n",
      "Epoch 00011: val_loss improved from 0.89811 to 0.88031, saving model to Emotion_little_vgg.h5\n",
      "755/755 [==============================] - 183s 243ms/step - loss: 1.1440 - accuracy: 0.5398 - val_loss: 0.8803 - val_accuracy: 0.6589\n",
      "Epoch 12/50\n",
      "755/755 [==============================] - ETA: 0s - loss: 1.1232 - accuracy: 0.5493\n",
      "Epoch 00012: val_loss did not improve from 0.88031\n",
      "755/755 [==============================] - 183s 243ms/step - loss: 1.1232 - accuracy: 0.5493 - val_loss: 0.9505 - val_accuracy: 0.6183\n",
      "Epoch 13/50\n",
      "755/755 [==============================] - ETA: 0s - loss: 1.0984 - accuracy: 0.5643\n",
      "Epoch 00013: val_loss improved from 0.88031 to 0.86808, saving model to Emotion_little_vgg.h5\n",
      "755/755 [==============================] - 184s 244ms/step - loss: 1.0984 - accuracy: 0.5643 - val_loss: 0.8681 - val_accuracy: 0.6616\n",
      "Epoch 14/50\n",
      "755/755 [==============================] - ETA: 0s - loss: 1.0808 - accuracy: 0.5711\n",
      "Epoch 00014: val_loss improved from 0.86808 to 0.86661, saving model to Emotion_little_vgg.h5\n",
      "755/755 [==============================] - 184s 243ms/step - loss: 1.0808 - accuracy: 0.5711 - val_loss: 0.8666 - val_accuracy: 0.6747\n",
      "Epoch 15/50\n",
      "755/755 [==============================] - ETA: 0s - loss: 1.0686 - accuracy: 0.5802\n",
      "Epoch 00015: val_loss did not improve from 0.86661\n",
      "755/755 [==============================] - 183s 243ms/step - loss: 1.0686 - accuracy: 0.5802 - val_loss: 0.8921 - val_accuracy: 0.6438\n",
      "Epoch 16/50\n",
      "755/755 [==============================] - ETA: 0s - loss: 1.0533 - accuracy: 0.5820\n",
      "Epoch 00016: val_loss improved from 0.86661 to 0.82875, saving model to Emotion_little_vgg.h5\n",
      "755/755 [==============================] - 183s 243ms/step - loss: 1.0533 - accuracy: 0.5820 - val_loss: 0.8287 - val_accuracy: 0.6895\n",
      "Epoch 17/50\n",
      "755/755 [==============================] - ETA: 0s - loss: 1.0474 - accuracy: 0.5885\n",
      "Epoch 00017: val_loss did not improve from 0.82875\n",
      "755/755 [==============================] - 183s 243ms/step - loss: 1.0474 - accuracy: 0.5885 - val_loss: 0.8472 - val_accuracy: 0.6663\n",
      "Epoch 18/50\n",
      "755/755 [==============================] - ETA: 0s - loss: 1.0434 - accuracy: 0.5916\n",
      "Epoch 00018: val_loss did not improve from 0.82875\n",
      "755/755 [==============================] - 189s 250ms/step - loss: 1.0434 - accuracy: 0.5916 - val_loss: 0.8366 - val_accuracy: 0.6872\n",
      "Epoch 19/50\n",
      "755/755 [==============================] - ETA: 0s - loss: 1.0179 - accuracy: 0.6027\n",
      "Epoch 00019: val_loss improved from 0.82875 to 0.79494, saving model to Emotion_little_vgg.h5\n",
      "755/755 [==============================] - 191s 252ms/step - loss: 1.0179 - accuracy: 0.6027 - val_loss: 0.7949 - val_accuracy: 0.6939\n",
      "Epoch 20/50\n",
      "755/755 [==============================] - ETA: 0s - loss: 1.0166 - accuracy: 0.6044\n",
      "Epoch 00020: val_loss did not improve from 0.79494\n",
      "755/755 [==============================] - 189s 250ms/step - loss: 1.0166 - accuracy: 0.6044 - val_loss: 0.8221 - val_accuracy: 0.6683\n",
      "Epoch 21/50\n",
      "755/755 [==============================] - ETA: 0s - loss: 1.0047 - accuracy: 0.6092\n",
      "Epoch 00021: val_loss did not improve from 0.79494\n",
      "755/755 [==============================] - 191s 253ms/step - loss: 1.0047 - accuracy: 0.6092 - val_loss: 0.8008 - val_accuracy: 0.6969\n",
      "Epoch 22/50\n",
      "755/755 [==============================] - ETA: 0s - loss: 0.9939 - accuracy: 0.6140Restoring model weights from the end of the best epoch.\n",
      "\n",
      "Epoch 00022: val_loss did not improve from 0.79494\n",
      "\n",
      "Epoch 00022: ReduceLROnPlateau reducing learning rate to 0.00020000000949949026.\n",
      "755/755 [==============================] - 183s 242ms/step - loss: 0.9939 - accuracy: 0.6140 - val_loss: 0.8042 - val_accuracy: 0.6939\n",
      "Epoch 00022: early stopping\n"
     ]
    }
   ],
   "source": [
    "history=model.fit_generator(train_generator,\n",
    "                            steps_per_epoch = nb_train_samples//batch_size,\n",
    "                            epochs=epochs,\n",
    "                            callbacks=callbacks,\n",
    "                            validation_data=validation_generator,\n",
    "                            validation_steps=nb_validation_samples // batch_size)"
   ]
  },
  {
   "cell_type": "code",
   "execution_count": null,
   "metadata": {},
   "outputs": [],
   "source": []
  }
 ],
 "metadata": {
  "kernelspec": {
   "display_name": "Python 3",
   "language": "python",
   "name": "python3"
  },
  "language_info": {
   "codemirror_mode": {
    "name": "ipython",
    "version": 3
   },
   "file_extension": ".py",
   "mimetype": "text/x-python",
   "name": "python",
   "nbconvert_exporter": "python",
   "pygments_lexer": "ipython3",
   "version": "3.8.3"
  }
 },
 "nbformat": 4,
 "nbformat_minor": 4
}
